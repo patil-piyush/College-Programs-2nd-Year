{
 "cells": [
  {
   "cell_type": "code",
   "execution_count": 3,
   "metadata": {},
   "outputs": [],
   "source": [
    "from scipy.stats import ttest_ind, shapiro\n",
    "import pandas as pd\n",
    "import numpy as np"
   ]
  },
  {
   "cell_type": "code",
   "execution_count": 4,
   "metadata": {},
   "outputs": [
    {
     "data": {
      "text/html": [
       "<div>\n",
       "<style scoped>\n",
       "    .dataframe tbody tr th:only-of-type {\n",
       "        vertical-align: middle;\n",
       "    }\n",
       "\n",
       "    .dataframe tbody tr th {\n",
       "        vertical-align: top;\n",
       "    }\n",
       "\n",
       "    .dataframe thead th {\n",
       "        text-align: right;\n",
       "    }\n",
       "</style>\n",
       "<table border=\"1\" class=\"dataframe\">\n",
       "  <thead>\n",
       "    <tr style=\"text-align: right;\">\n",
       "      <th></th>\n",
       "      <th>Making Unit 1</th>\n",
       "      <th>Making Unit 2</th>\n",
       "    </tr>\n",
       "  </thead>\n",
       "  <tbody>\n",
       "    <tr>\n",
       "      <th>0</th>\n",
       "      <td>6.8090</td>\n",
       "      <td>6.7703</td>\n",
       "    </tr>\n",
       "    <tr>\n",
       "      <th>1</th>\n",
       "      <td>6.4376</td>\n",
       "      <td>7.5093</td>\n",
       "    </tr>\n",
       "    <tr>\n",
       "      <th>2</th>\n",
       "      <td>6.9157</td>\n",
       "      <td>6.7300</td>\n",
       "    </tr>\n",
       "    <tr>\n",
       "      <th>3</th>\n",
       "      <td>7.3012</td>\n",
       "      <td>6.7878</td>\n",
       "    </tr>\n",
       "    <tr>\n",
       "      <th>4</th>\n",
       "      <td>7.4488</td>\n",
       "      <td>7.1522</td>\n",
       "    </tr>\n",
       "  </tbody>\n",
       "</table>\n",
       "</div>"
      ],
      "text/plain": [
       "   Making Unit 1  Making Unit 2\n",
       "0         6.8090         6.7703\n",
       "1         6.4376         7.5093\n",
       "2         6.9157         6.7300\n",
       "3         7.3012         6.7878\n",
       "4         7.4488         7.1522"
      ]
     },
     "execution_count": 4,
     "metadata": {},
     "output_type": "execute_result"
    }
   ],
   "source": [
    "data = pd.read_csv('pizzas.csv')\n",
    "data.head()"
   ]
  },
  {
   "cell_type": "code",
   "execution_count": 6,
   "metadata": {},
   "outputs": [
    {
     "name": "stdout",
     "output_type": "stream",
     "text": [
      "p-value for making unit 1 - 0.32\n",
      "p-value for making unit 2 - 0.52\n"
     ]
    }
   ],
   "source": [
    "alpha = 0.05\n",
    "p1 = round(shapiro(data['Making Unit 1'])[1],2)\n",
    "print(f\"p-value for making unit 1 - {p1}\")\n",
    "p2 = round(shapiro(data['Making Unit 2'])[1],2)\n",
    "print(f\"p-value for making unit 2 - {p2}\")"
   ]
  },
  {
   "cell_type": "code",
   "execution_count": 9,
   "metadata": {},
   "outputs": [
    {
     "name": "stdout",
     "output_type": "stream",
     "text": [
      "0.32>0.05 - it is null hypothesis, data is normalised\n",
      "0.52>0.05 - it is null hypothesis, data is normalised\n"
     ]
    }
   ],
   "source": [
    "h1 = 'data is normalised'\n",
    "h2 = 'data is not normalised'\n",
    "\n",
    "if p1>alpha:\n",
    "    print(f\"{p1}>{alpha} - it is null hypothesis, {h1}\")\n",
    "else:\n",
    "    print(f\"{p1}<{alpha} -we reject the null hypothesis, {h2}\")\n",
    "\n",
    "if p2>alpha:\n",
    "    print(f\"{p2}>{alpha} - it is null hypothesis, {h1}\")\n",
    "else:\n",
    "    print(f\"{p2}<{alpha} -we reject the null hypothesis, {h2}\")"
   ]
  },
  {
   "cell_type": "code",
   "execution_count": 15,
   "metadata": {},
   "outputs": [
    {
     "name": "stdout",
     "output_type": "stream",
     "text": [
      "T-statistic: 0.7228688704678063 \t p-value: 0.47223947245995\n",
      "0.47223947245995>0.05 it is null hypothesis, there is no significant diff in diameters\n"
     ]
    }
   ],
   "source": [
    "if p1>alpha and p2>alpha:\n",
    "    t_state , p_value = ttest_ind(data['Making Unit 1'], data['Making Unit 2'])\n",
    "    print(f\"T-statistic: {t_state} \\t p-value: {p_value}\")\n",
    "\n",
    "    if p_value>alpha:\n",
    "        print(f\"{p_value}>{alpha} it is null hypothesis, there is no significant diff in diameters\")\n",
    "    else:\n",
    "        print(f\"{p_value}<={alpha} we reject null hypothesis, there is  significant diff in diameters\")\n"
   ]
  }
 ],
 "metadata": {
  "kernelspec": {
   "display_name": "Python 3",
   "language": "python",
   "name": "python3"
  },
  "language_info": {
   "codemirror_mode": {
    "name": "ipython",
    "version": 3
   },
   "file_extension": ".py",
   "mimetype": "text/x-python",
   "name": "python",
   "nbconvert_exporter": "python",
   "pygments_lexer": "ipython3",
   "version": "3.12.6"
  }
 },
 "nbformat": 4,
 "nbformat_minor": 2
}
