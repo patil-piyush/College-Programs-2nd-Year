{
 "cells": [
  {
   "cell_type": "code",
   "execution_count": 8,
   "id": "2c39fda0",
   "metadata": {},
   "outputs": [],
   "source": [
    "import pandas as pd\n",
    "import numpy as np\n",
    "from scipy.stats import shapiro, ttest_ind"
   ]
  },
  {
   "cell_type": "code",
   "execution_count": 9,
   "id": "295fb9c9",
   "metadata": {},
   "outputs": [],
   "source": [
    "data = pd.read_csv('pizzas.csv')"
   ]
  },
  {
   "cell_type": "code",
   "execution_count": 10,
   "id": "dd29a81e",
   "metadata": {},
   "outputs": [
    {
     "data": {
      "text/html": [
       "<div>\n",
       "<style scoped>\n",
       "    .dataframe tbody tr th:only-of-type {\n",
       "        vertical-align: middle;\n",
       "    }\n",
       "\n",
       "    .dataframe tbody tr th {\n",
       "        vertical-align: top;\n",
       "    }\n",
       "\n",
       "    .dataframe thead th {\n",
       "        text-align: right;\n",
       "    }\n",
       "</style>\n",
       "<table border=\"1\" class=\"dataframe\">\n",
       "  <thead>\n",
       "    <tr style=\"text-align: right;\">\n",
       "      <th></th>\n",
       "      <th>Making Unit 1</th>\n",
       "      <th>Making Unit 2</th>\n",
       "    </tr>\n",
       "  </thead>\n",
       "  <tbody>\n",
       "    <tr>\n",
       "      <th>0</th>\n",
       "      <td>6.8090</td>\n",
       "      <td>6.7703</td>\n",
       "    </tr>\n",
       "    <tr>\n",
       "      <th>1</th>\n",
       "      <td>6.4376</td>\n",
       "      <td>7.5093</td>\n",
       "    </tr>\n",
       "    <tr>\n",
       "      <th>2</th>\n",
       "      <td>6.9157</td>\n",
       "      <td>6.7300</td>\n",
       "    </tr>\n",
       "    <tr>\n",
       "      <th>3</th>\n",
       "      <td>7.3012</td>\n",
       "      <td>6.7878</td>\n",
       "    </tr>\n",
       "    <tr>\n",
       "      <th>4</th>\n",
       "      <td>7.4488</td>\n",
       "      <td>7.1522</td>\n",
       "    </tr>\n",
       "  </tbody>\n",
       "</table>\n",
       "</div>"
      ],
      "text/plain": [
       "   Making Unit 1  Making Unit 2\n",
       "0         6.8090         6.7703\n",
       "1         6.4376         7.5093\n",
       "2         6.9157         6.7300\n",
       "3         7.3012         6.7878\n",
       "4         7.4488         7.1522"
      ]
     },
     "execution_count": 10,
     "metadata": {},
     "output_type": "execute_result"
    }
   ],
   "source": [
    "data.head()"
   ]
  },
  {
   "cell_type": "code",
   "execution_count": 11,
   "id": "edb07194",
   "metadata": {},
   "outputs": [
    {
     "name": "stdout",
     "output_type": "stream",
     "text": [
      "Shape  : (35, 2)\n"
     ]
    }
   ],
   "source": [
    "print(f\"Shape  : {data.shape}\")"
   ]
  },
  {
   "cell_type": "code",
   "execution_count": 12,
   "id": "20fab09b",
   "metadata": {},
   "outputs": [
    {
     "name": "stdout",
     "output_type": "stream",
     "text": [
      "p - value of unit 1 : 0.32\n",
      "p - value of unit 2 : 0.52\n"
     ]
    }
   ],
   "source": [
    "alpha = 0.05\n",
    "p1 = round(shapiro(data['Making Unit 1'])[1],2)\n",
    "print(f\"p - value of unit 1 : {p1}\")\n",
    "p2 = round(shapiro(data['Making Unit 2'])[1],2)\n",
    "print(f\"p - value of unit 2 : {p2}\")"
   ]
  },
  {
   "cell_type": "code",
   "execution_count": 13,
   "id": "3aac96f5",
   "metadata": {},
   "outputs": [
    {
     "name": "stdout",
     "output_type": "stream",
     "text": [
      "0.32 > 0.05. It is Null Hypothesis for Making Unit 1. Data is normal\n",
      "0.52 > 0.05. It is Null Hypothesis for Making Unit 2. Data is normal\n"
     ]
    }
   ],
   "source": [
    "H0 = 'Data is normal'\n",
    "Ha = 'Data is not normal'\n",
    "if p1 > alpha:\n",
    "    print(f\"{p1} > {alpha}. It is Null Hypothesis for Making Unit 1. {H0}\")\n",
    "else:\n",
    "    print(f\"{p1} <= {alpha}. We reject the Null Hypothesis for Making Unit 1. {Ha}\")\n",
    "\n",
    "if p2 > alpha:\n",
    "    print(f\"{p2} > {alpha}. It is Null Hypothesis for Making Unit 2. {H0}\")\n",
    "else:\n",
    "    print(f\"{p2} <= {alpha}. We reject the Null Hypothesis for Making Unit 2. {Ha}\")\n"
   ]
  },
  {
   "cell_type": "code",
   "execution_count": 14,
   "id": "2c17cebc",
   "metadata": {},
   "outputs": [
    {
     "name": "stdout",
     "output_type": "stream",
     "text": [
      "T-statistic: 0.7228688704678063, p-value: 0.47223947245995\n",
      "0.47223947245995 >= 0.05. It is the Null Hypothesis. No significant difference in average diameter.\n"
     ]
    }
   ],
   "source": [
    "if p1 > alpha and p2 > alpha:\n",
    "    t_stat, p_value = ttest_ind(data['Making Unit 1'], data['Making Unit 2'])\n",
    "    print(f\"T-statistic: {t_stat}, p-value: {p_value}\")\n",
    "\n",
    "    if p_value < alpha:\n",
    "        print(f\"{p_value} < {alpha}. We reject the Null Hypothesis. There is a significant difference in average diameter.\")\n",
    "    else:\n",
    "        print(f\"{p_value} >= {alpha}. It is the Null Hypothesis. No significant difference in average diameter.\")\n",
    "else:\n",
    "    print(\"Normality assumption is violated. Consider using a non-parametric test such as the Mann-Whitney U test.\")"
   ]
  }
 ],
 "metadata": {
  "kernelspec": {
   "display_name": "Python 3",
   "language": "python",
   "name": "python3"
  },
  "language_info": {
   "codemirror_mode": {
    "name": "ipython",
    "version": 3
   },
   "file_extension": ".py",
   "mimetype": "text/x-python",
   "name": "python",
   "nbconvert_exporter": "python",
   "pygments_lexer": "ipython3",
   "version": "3.12.6"
  }
 },
 "nbformat": 4,
 "nbformat_minor": 5
}
