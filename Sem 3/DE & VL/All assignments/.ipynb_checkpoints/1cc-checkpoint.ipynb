{
 "cells": [
  {
   "cell_type": "code",
   "execution_count": 5,
   "id": "94efbc3d-0a5c-4a37-b413-bd618c478835",
   "metadata": {},
   "outputs": [
    {
     "name": "stdout",
     "output_type": "stream",
     "text": [
      "Enter the dimensions of the first array\n"
     ]
    },
    {
     "name": "stdin",
     "output_type": "stream",
     "text": [
      "Enter the number of rows:  2\n",
      "Enter the number of columns:  2\n",
      "Enter element [1, 1]:  2\n",
      "Enter element [1, 2]:  2\n",
      "Enter element [2, 1]:  2\n",
      "Enter element [2, 2]:  2\n"
     ]
    },
    {
     "name": "stdout",
     "output_type": "stream",
     "text": [
      "Enter the dimensions of the second array\n"
     ]
    },
    {
     "name": "stdin",
     "output_type": "stream",
     "text": [
      "Enter the number of rows:  2\n",
      "Enter the number of columns:  2\n",
      "Enter element [1, 1]:  2\n",
      "Enter element [1, 2]:  2\n",
      "Enter element [2, 1]:  2\n",
      "Enter element [2, 2]:  2\n"
     ]
    },
    {
     "name": "stdout",
     "output_type": "stream",
     "text": [
      "The first array is:\n",
      "\n",
      "[[2. 2.]\n",
      " [2. 2.]]\n",
      "\n",
      "\n",
      "The second array is:\n",
      "\n",
      "[[2. 2.]\n",
      " [2. 2.]]\n",
      "\n",
      "Element-wise Matrix Multiplication:\n",
      " [[4. 4.]\n",
      " [4. 4.]]\n",
      "\n",
      "Matrix Multiplication (Dot Product):\n",
      " [[8. 8.]\n",
      " [8. 8.]]\n"
     ]
    }
   ],
   "source": [
    "import numpy as np\n",
    "\n",
    "# Take the number of rows and columns as input from the user\n",
    "print(\"Enter the dimensions of the first array\")\n",
    "rows = int(input(\"Enter the number of rows: \"))\n",
    "cols = int(input(\"Enter the number of columns: \"))\n",
    "\n",
    "# Take the 2D array elements as input from the user\n",
    "arr = np.zeros((rows, cols))\n",
    "for i in range(rows):\n",
    "    for j in range(cols):\n",
    "        arr[i, j] = int(input(f\"Enter element [{i+1}, {j+1}]: \"))\n",
    "\n",
    "print(\"Enter the dimensions of the second array\")\n",
    "rows = int(input(\"Enter the number of rows: \"))\n",
    "cols = int(input(\"Enter the number of columns: \"))\n",
    "# Take the 2D array elements as input from the user\n",
    "arr2 = np.zeros((rows, cols))\n",
    "for i in range(rows):\n",
    "    for j in range(cols):\n",
    "        arr2[i, j] = int(input(f\"Enter element [{i+1}, {j+1}]: \"))\n",
    "\n",
    "print(\"The first array is:\\n\")\n",
    "print(arr)\n",
    "print(\"\\n\")\n",
    "print(\"The second array is:\\n\")\n",
    "print(arr2)  \n",
    "b=np.multiply(arr , arr2)\n",
    "print(\"\\nmultiplication\",b)\n",
    "\n",
    "a = np.add(arr,arr2)\n",
    "print(\"\\nAddition of two matrices is: \\n\",a)\n",
    "\n",
    "#now doing matrix substraction\n",
    "\n",
    "s = np.subtract(arr,arr2)\n",
    "print(\"\\nSubstraction of two matrices is: \\n\",s)"
   ]
  },
  {
   "cell_type": "code",
   "execution_count": null,
   "id": "f1356906-6b77-4422-b503-e427dfd57af0",
   "metadata": {},
   "outputs": [],
   "source": []
  }
 ],
 "metadata": {
  "kernelspec": {
   "display_name": "Python 3 (ipykernel)",
   "language": "python",
   "name": "python3"
  },
  "language_info": {
   "codemirror_mode": {
    "name": "ipython",
    "version": 3
   },
   "file_extension": ".py",
   "mimetype": "text/x-python",
   "name": "python",
   "nbconvert_exporter": "python",
   "pygments_lexer": "ipython3",
   "version": "3.12.6"
  }
 },
 "nbformat": 4,
 "nbformat_minor": 5
}
