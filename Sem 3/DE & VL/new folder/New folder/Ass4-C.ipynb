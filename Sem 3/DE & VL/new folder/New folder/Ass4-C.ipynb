{
 "cells": [
  {
   "cell_type": "code",
   "execution_count": 1,
   "id": "71135c93-409d-4dde-a9fe-e1c9fc11edf0",
   "metadata": {},
   "outputs": [
    {
     "data": {
      "text/html": [
       "<div>\n",
       "<style scoped>\n",
       "    .dataframe tbody tr th:only-of-type {\n",
       "        vertical-align: middle;\n",
       "    }\n",
       "\n",
       "    .dataframe tbody tr th {\n",
       "        vertical-align: top;\n",
       "    }\n",
       "\n",
       "    .dataframe thead th {\n",
       "        text-align: right;\n",
       "    }\n",
       "</style>\n",
       "<table border=\"1\" class=\"dataframe\">\n",
       "  <thead>\n",
       "    <tr style=\"text-align: right;\">\n",
       "      <th></th>\n",
       "      <th>Making Unit 1</th>\n",
       "      <th>Making Unit 2</th>\n",
       "    </tr>\n",
       "  </thead>\n",
       "  <tbody>\n",
       "    <tr>\n",
       "      <th>0</th>\n",
       "      <td>6.8090</td>\n",
       "      <td>6.7703</td>\n",
       "    </tr>\n",
       "    <tr>\n",
       "      <th>1</th>\n",
       "      <td>6.4376</td>\n",
       "      <td>7.5093</td>\n",
       "    </tr>\n",
       "    <tr>\n",
       "      <th>2</th>\n",
       "      <td>6.9157</td>\n",
       "      <td>6.7300</td>\n",
       "    </tr>\n",
       "    <tr>\n",
       "      <th>3</th>\n",
       "      <td>7.3012</td>\n",
       "      <td>6.7878</td>\n",
       "    </tr>\n",
       "    <tr>\n",
       "      <th>4</th>\n",
       "      <td>7.4488</td>\n",
       "      <td>7.1522</td>\n",
       "    </tr>\n",
       "  </tbody>\n",
       "</table>\n",
       "</div>"
      ],
      "text/plain": [
       "   Making Unit 1  Making Unit 2\n",
       "0         6.8090         6.7703\n",
       "1         6.4376         7.5093\n",
       "2         6.9157         6.7300\n",
       "3         7.3012         6.7878\n",
       "4         7.4488         7.1522"
      ]
     },
     "execution_count": 1,
     "metadata": {},
     "output_type": "execute_result"
    }
   ],
   "source": [
    "import pandas as pd\n",
    "from scipy import stats\n",
    "\n",
    "pizzas = pd.read_csv('pizzas.csv')\n",
    "pizzas.head()"
   ]
  },
  {
   "cell_type": "code",
   "execution_count": 3,
   "id": "941aea93-d964-441d-a433-66485f6548fa",
   "metadata": {},
   "outputs": [],
   "source": [
    "alpha = 0.05"
   ]
  },
  {
   "cell_type": "code",
   "execution_count": 21,
   "id": "3fbd3361-0512-4a14-a314-7e96d880683a",
   "metadata": {},
   "outputs": [
    {
     "name": "stdout",
     "output_type": "stream",
     "text": [
      "\n",
      "*** Shapiro Test Results of 'Making Unit 1' ***\n",
      "0.32 > 0.05. We fail to reject Null Hypothesis. 'Making Unit 1' data is Normally distributed\n",
      "\n",
      "*** Shapiro Test Results of 'Making Unit 2' ***\n",
      "0.52 > 0.05. We fail to reject Null Hypothesis. 'Making Unit 2' data is Normally distributed\n"
     ]
    }
   ],
   "source": [
    "# Defining Null and Alternative Hypotheses\n",
    "H0 = 'data is Normally distributed'\n",
    "Ha = 'data is not Normally distributed'\n",
    "\n",
    "from scipy.stats import shapiro\n",
    "def check_normality(df):\n",
    "\tfor columnName, columnData in pizzas.items():\n",
    "\t\tprint('\\n' + \"*** Shapiro Test Results of '{}' ***\".format(columnName))\n",
    "\t\tp = round(shapiro(columnData.values)[1], 2)\n",
    "\n",
    "\t\tif p>alpha:\n",
    "\t\t\tprint(f\"{p} > {alpha}. We fail to reject Null Hypothesis. '{columnName}' {H0}\")\n",
    "\t\telse:\n",
    "\t\t\tprint(f\"{p} <= {alpha}. We reject Null Hypothesis. '{columnName}' {Ha}\")\n",
    "\n",
    "check_normality(pizzas)"
   ]
  },
  {
   "cell_type": "code",
   "execution_count": 9,
   "id": "3645428a-1211-4cde-b5d3-e58e5e852a01",
   "metadata": {},
   "outputs": [
    {
     "name": "stdout",
     "output_type": "stream",
     "text": [
      "\n",
      "*** Variances Test Results' ***\n",
      "1.0 > 0.05. We fail to reject Null Hypothesis. Variances are equal\n"
     ]
    }
   ],
   "source": [
    "H0 = 'Variances are equal'\n",
    "Ha = 'Variances are not equal'\n",
    "\n",
    "from scipy.stats import levene\n",
    "def check_variances(df):\n",
    "\tprint('\\n' + \"*** Variances Test Results' ***\")\n",
    "\tp = round(levene(pizzas['Making Unit 1'], pizzas['Making Unit 1'])[1],2)\n",
    "\n",
    "\tif p>alpha:\n",
    "\t\tprint(f\"{p} > {alpha}. We fail to reject Null Hypothesis. {H0}\")\n",
    "\telse:\n",
    "\t\tprint(f\"{p} <= {alpha}. We reject Null Hypothesis. {Ha}\")\n",
    "\n",
    "check_variances(pizzas)"
   ]
  },
  {
   "cell_type": "code",
   "execution_count": 11,
   "id": "32544d8a-d2b5-47ba-b850-323be2cc613f",
   "metadata": {},
   "outputs": [
    {
     "name": "stdout",
     "output_type": "stream",
     "text": [
      "\n",
      "*** 2 Sample T Test Results ***\n",
      "1.0 > 0.05. We fail to reject Null Hypothesis. There is no significant difference.\n"
     ]
    }
   ],
   "source": [
    "from scipy.stats import ttest_ind\n",
    "H0 = 'There is no significant difference.'\n",
    "Ha = 'There exist a significant difference.'\n",
    "\n",
    "def t_test(df):\n",
    "    print('\\n' + \"*** 2 Sample T Test Results ***\")\n",
    "    test_results = ttest_ind(pizzas['Making Unit 1'], pizzas['Making Unit 1'], equal_var=True)\n",
    "\n",
    "    p = round(test_results[1],2)\n",
    "\n",
    "    if p>alpha:\n",
    "        print(f\"{p} > {alpha}. We fail to reject Null Hypothesis. {H0}\")\n",
    "    else:\n",
    "        print(f\"{p} <= {alpha}. We reject Null Hypothesis. {Ha}\")\n",
    "\n",
    "t_test(pizzas)"
   ]
  },
  {
   "cell_type": "code",
   "execution_count": 13,
   "id": "db2b7f7f-c5d5-4568-b725-24b5cd6c0d24",
   "metadata": {},
   "outputs": [
    {
     "data": {
      "text/html": [
       "<div>\n",
       "<style scoped>\n",
       "    .dataframe tbody tr th:only-of-type {\n",
       "        vertical-align: middle;\n",
       "    }\n",
       "\n",
       "    .dataframe tbody tr th {\n",
       "        vertical-align: top;\n",
       "    }\n",
       "\n",
       "    .dataframe thead th {\n",
       "        text-align: right;\n",
       "    }\n",
       "</style>\n",
       "<table border=\"1\" class=\"dataframe\">\n",
       "  <thead>\n",
       "    <tr style=\"text-align: right;\">\n",
       "      <th></th>\n",
       "      <th>Diameter</th>\n",
       "    </tr>\n",
       "  </thead>\n",
       "  <tbody>\n",
       "    <tr>\n",
       "      <th>0</th>\n",
       "      <td>6.7703</td>\n",
       "    </tr>\n",
       "    <tr>\n",
       "      <th>1</th>\n",
       "      <td>7.5093</td>\n",
       "    </tr>\n",
       "    <tr>\n",
       "      <th>2</th>\n",
       "      <td>6.7300</td>\n",
       "    </tr>\n",
       "    <tr>\n",
       "      <th>3</th>\n",
       "      <td>6.7878</td>\n",
       "    </tr>\n",
       "    <tr>\n",
       "      <th>4</th>\n",
       "      <td>7.1522</td>\n",
       "    </tr>\n",
       "  </tbody>\n",
       "</table>\n",
       "</div>"
      ],
      "text/plain": [
       "   Diameter\n",
       "0    6.7703\n",
       "1    7.5093\n",
       "2    6.7300\n",
       "3    6.7878\n",
       "4    7.1522"
      ]
     },
     "execution_count": 13,
     "metadata": {},
     "output_type": "execute_result"
    }
   ],
   "source": [
    "# Collect data\n",
    "data = pd.read_csv('diameter.csv')\n",
    "data.head()"
   ]
  },
  {
   "cell_type": "code",
   "execution_count": 15,
   "id": "e2e282b2-25e8-4a36-bcac-eed5fc52c848",
   "metadata": {},
   "outputs": [],
   "source": [
    "# Defining Null and Alternative Hypotheses\n",
    "H0 = 'Data is normal'\n",
    "Ha = 'Data is not normal'"
   ]
  },
  {
   "cell_type": "code",
   "execution_count": 17,
   "id": "c9dc6902-d555-4382-abcb-cf74c0d0cbec",
   "metadata": {},
   "outputs": [],
   "source": [
    "alpha = 0.05\n",
    "\n",
    "from scipy.stats import shapiro\n",
    "p = round(shapiro(data)[1], 2)"
   ]
  },
  {
   "cell_type": "code",
   "execution_count": 19,
   "id": "c8fd146d-5e84-42e8-aa88-f52083c88d47",
   "metadata": {},
   "outputs": [
    {
     "name": "stdout",
     "output_type": "stream",
     "text": [
      "0.52 > 0.05. We fail to reject Null Hypothesis. Data is normal\n"
     ]
    }
   ],
   "source": [
    "if p > alpha:\n",
    "    print(f\"{p} > {alpha}. We fail to reject Null Hypothesis. {H0}\")\n",
    "else:\n",
    "\tprint(f\"{p} <= {alpha}. We reject Null Hypothesis. {Ha}\")"
   ]
  }
 ],
 "metadata": {
  "kernelspec": {
   "display_name": "Python 3 (ipykernel)",
   "language": "python",
   "name": "python3"
  },
  "language_info": {
   "codemirror_mode": {
    "name": "ipython",
    "version": 3
   },
   "file_extension": ".py",
   "mimetype": "text/x-python",
   "name": "python",
   "nbconvert_exporter": "python",
   "pygments_lexer": "ipython3",
   "version": "3.12.4"
  }
 },
 "nbformat": 4,
 "nbformat_minor": 5
}
